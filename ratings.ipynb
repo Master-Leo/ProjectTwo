{
 "cells": [
  {
   "cell_type": "code",
   "execution_count": 49,
   "metadata": {},
   "outputs": [],
   "source": [
    "#Dependencies\n",
    "import pandas as pd\n",
    "import numpy as np\n",
    "\n",
    "from sqlalchemy import create_engine\n",
    "import psycopg2\n",
    "\n",
    "from config import protocol, username, password, host, port, database_name\n"
   ]
  },
  {
   "cell_type": "code",
   "execution_count": 50,
   "metadata": {},
   "outputs": [
    {
     "data": {
      "text/html": [
       "<div>\n",
       "<style scoped>\n",
       "    .dataframe tbody tr th:only-of-type {\n",
       "        vertical-align: middle;\n",
       "    }\n",
       "\n",
       "    .dataframe tbody tr th {\n",
       "        vertical-align: top;\n",
       "    }\n",
       "\n",
       "    .dataframe thead th {\n",
       "        text-align: right;\n",
       "    }\n",
       "</style>\n",
       "<table border=\"1\" class=\"dataframe\">\n",
       "  <thead>\n",
       "    <tr style=\"text-align: right;\">\n",
       "      <th></th>\n",
       "      <th>kdrama_name</th>\n",
       "      <th>imdb_rating</th>\n",
       "      <th>imdb_users</th>\n",
       "      <th>imdb_description</th>\n",
       "    </tr>\n",
       "  </thead>\n",
       "  <tbody>\n",
       "    <tr>\n",
       "      <th>0</th>\n",
       "      <td>100 Days My Prince</td>\n",
       "      <td>7.7</td>\n",
       "      <td>2,188</td>\n",
       "      <td>Upon losing his memory, a crown prince encount...</td>\n",
       "    </tr>\n",
       "    <tr>\n",
       "      <th>1</th>\n",
       "      <td>12 Years Promise</td>\n",
       "      <td>7.3</td>\n",
       "      <td>181</td>\n",
       "      <td>A pregnant teen is forced by her family to lea...</td>\n",
       "    </tr>\n",
       "    <tr>\n",
       "      <th>2</th>\n",
       "      <td>18 Again</td>\n",
       "      <td>8.2</td>\n",
       "      <td>1,847</td>\n",
       "      <td>A 37-year-old man on the verge of being divorc...</td>\n",
       "    </tr>\n",
       "    <tr>\n",
       "      <th>3</th>\n",
       "      <td>365: Repeat the Year</td>\n",
       "      <td>8.0</td>\n",
       "      <td>656</td>\n",
       "      <td>A story where ten people get the chance to go ...</td>\n",
       "    </tr>\n",
       "    <tr>\n",
       "      <th>4</th>\n",
       "      <td>7th Grade Civil Servant</td>\n",
       "      <td>6.3</td>\n",
       "      <td>145</td>\n",
       "      <td>A romantic comedy about a spy couple who hides...</td>\n",
       "    </tr>\n",
       "  </tbody>\n",
       "</table>\n",
       "</div>"
      ],
      "text/plain": [
       "               kdrama_name  imdb_rating imdb_users  \\\n",
       "0       100 Days My Prince          7.7      2,188   \n",
       "1         12 Years Promise          7.3        181   \n",
       "2                 18 Again          8.2      1,847   \n",
       "3     365: Repeat the Year          8.0        656   \n",
       "4  7th Grade Civil Servant          6.3        145   \n",
       "\n",
       "                                    imdb_description  \n",
       "0  Upon losing his memory, a crown prince encount...  \n",
       "1  A pregnant teen is forced by her family to lea...  \n",
       "2  A 37-year-old man on the verge of being divorc...  \n",
       "3  A story where ten people get the chance to go ...  \n",
       "4  A romantic comedy about a spy couple who hides...  "
      ]
     },
     "execution_count": 50,
     "metadata": {},
     "output_type": "execute_result"
    }
   ],
   "source": [
    "#Extracting Files (Kdrama)\n",
    "kdrama_file = \"./Data/imdb.csv\"\n",
    "kdrama_df = pd.read_csv(kdrama_file)\n",
    "kdrama_df.head()"
   ]
  },
  {
   "cell_type": "code",
   "execution_count": 51,
   "metadata": {},
   "outputs": [
    {
     "data": {
      "text/html": [
       "<div>\n",
       "<style scoped>\n",
       "    .dataframe tbody tr th:only-of-type {\n",
       "        vertical-align: middle;\n",
       "    }\n",
       "\n",
       "    .dataframe tbody tr th {\n",
       "        vertical-align: top;\n",
       "    }\n",
       "\n",
       "    .dataframe thead th {\n",
       "        text-align: right;\n",
       "    }\n",
       "</style>\n",
       "<table border=\"1\" class=\"dataframe\">\n",
       "  <thead>\n",
       "    <tr style=\"text-align: right;\">\n",
       "      <th></th>\n",
       "      <th>kdrama_name</th>\n",
       "      <th>imdb_rating</th>\n",
       "    </tr>\n",
       "  </thead>\n",
       "  <tbody>\n",
       "    <tr>\n",
       "      <th>244</th>\n",
       "      <td>If You Wish Upon Me</td>\n",
       "      <td>9.5</td>\n",
       "    </tr>\n",
       "    <tr>\n",
       "      <th>452</th>\n",
       "      <td>Reply 1988</td>\n",
       "      <td>9.2</td>\n",
       "    </tr>\n",
       "    <tr>\n",
       "      <th>518</th>\n",
       "      <td>Standby</td>\n",
       "      <td>9.2</td>\n",
       "    </tr>\n",
       "    <tr>\n",
       "      <th>158</th>\n",
       "      <td>Extraordinary Attorney Woo</td>\n",
       "      <td>9.1</td>\n",
       "    </tr>\n",
       "    <tr>\n",
       "      <th>373</th>\n",
       "      <td>My Mister</td>\n",
       "      <td>9.1</td>\n",
       "    </tr>\n",
       "  </tbody>\n",
       "</table>\n",
       "</div>"
      ],
      "text/plain": [
       "                    kdrama_name  imdb_rating\n",
       "244         If You Wish Upon Me          9.5\n",
       "452                  Reply 1988          9.2\n",
       "518                     Standby          9.2\n",
       "158  Extraordinary Attorney Woo          9.1\n",
       "373                   My Mister          9.1"
      ]
     },
     "execution_count": 51,
     "metadata": {},
     "output_type": "execute_result"
    }
   ],
   "source": [
    "#Cleaning Files (kdrama)\n",
    "cleaned_kdrama_df = kdrama_df[[\"kdrama_name\", \"imdb_rating\"]].copy()\n",
    "cleaned_kdrama_df.sort_values(by=['imdb_rating'], inplace=True, ascending=False)\n",
    "cleaned_kdrama_df.head()"
   ]
  },
  {
   "cell_type": "code",
   "execution_count": 52,
   "metadata": {},
   "outputs": [
    {
     "data": {
      "text/html": [
       "<div>\n",
       "<style scoped>\n",
       "    .dataframe tbody tr th:only-of-type {\n",
       "        vertical-align: middle;\n",
       "    }\n",
       "\n",
       "    .dataframe tbody tr th {\n",
       "        vertical-align: top;\n",
       "    }\n",
       "\n",
       "    .dataframe thead th {\n",
       "        text-align: right;\n",
       "    }\n",
       "</style>\n",
       "<table border=\"1\" class=\"dataframe\">\n",
       "  <thead>\n",
       "    <tr style=\"text-align: right;\">\n",
       "      <th></th>\n",
       "      <th>kdrama_name</th>\n",
       "      <th>genre</th>\n",
       "    </tr>\n",
       "  </thead>\n",
       "  <tbody>\n",
       "    <tr>\n",
       "      <th>0</th>\n",
       "      <td>100 Days My Prince</td>\n",
       "      <td>historical</td>\n",
       "    </tr>\n",
       "    <tr>\n",
       "      <th>1</th>\n",
       "      <td>100 Days My Prince</td>\n",
       "      <td>comedy</td>\n",
       "    </tr>\n",
       "    <tr>\n",
       "      <th>2</th>\n",
       "      <td>100 Days My Prince</td>\n",
       "      <td>romance</td>\n",
       "    </tr>\n",
       "    <tr>\n",
       "      <th>3</th>\n",
       "      <td>100 Days My Prince</td>\n",
       "      <td>drama</td>\n",
       "    </tr>\n",
       "    <tr>\n",
       "      <th>4</th>\n",
       "      <td>12 Signs of Love</td>\n",
       "      <td>comedy</td>\n",
       "    </tr>\n",
       "  </tbody>\n",
       "</table>\n",
       "</div>"
      ],
      "text/plain": [
       "          kdrama_name       genre\n",
       "0  100 Days My Prince  historical\n",
       "1  100 Days My Prince      comedy\n",
       "2  100 Days My Prince     romance\n",
       "3  100 Days My Prince       drama\n",
       "4    12 Signs of Love      comedy"
      ]
     },
     "execution_count": 52,
     "metadata": {},
     "output_type": "execute_result"
    }
   ],
   "source": [
    "##Extracting Files (Genres)\n",
    "kdrama_genre_file = \"./Data/genres.csv\"\n",
    "kdrama_genre_file_df = pd.read_csv(kdrama_genre_file)\n",
    "kdrama_genre_file_df.head()"
   ]
  },
  {
   "cell_type": "code",
   "execution_count": 53,
   "metadata": {},
   "outputs": [
    {
     "data": {
      "text/html": [
       "<div>\n",
       "<style scoped>\n",
       "    .dataframe tbody tr th:only-of-type {\n",
       "        vertical-align: middle;\n",
       "    }\n",
       "\n",
       "    .dataframe tbody tr th {\n",
       "        vertical-align: top;\n",
       "    }\n",
       "\n",
       "    .dataframe thead th {\n",
       "        text-align: right;\n",
       "    }\n",
       "</style>\n",
       "<table border=\"1\" class=\"dataframe\">\n",
       "  <thead>\n",
       "    <tr style=\"text-align: right;\">\n",
       "      <th></th>\n",
       "      <th>kdrama_name</th>\n",
       "      <th>imdb_rating</th>\n",
       "      <th>genre</th>\n",
       "    </tr>\n",
       "  </thead>\n",
       "  <tbody>\n",
       "    <tr>\n",
       "      <th>0</th>\n",
       "      <td>If You Wish Upon Me</td>\n",
       "      <td>9.5</td>\n",
       "      <td>life</td>\n",
       "    </tr>\n",
       "    <tr>\n",
       "      <th>1</th>\n",
       "      <td>If You Wish Upon Me</td>\n",
       "      <td>9.5</td>\n",
       "      <td>drama</td>\n",
       "    </tr>\n",
       "    <tr>\n",
       "      <th>2</th>\n",
       "      <td>If You Wish Upon Me</td>\n",
       "      <td>9.5</td>\n",
       "      <td>medical</td>\n",
       "    </tr>\n",
       "    <tr>\n",
       "      <th>3</th>\n",
       "      <td>Reply 1988</td>\n",
       "      <td>9.2</td>\n",
       "      <td>comedy</td>\n",
       "    </tr>\n",
       "    <tr>\n",
       "      <th>4</th>\n",
       "      <td>Reply 1988</td>\n",
       "      <td>9.2</td>\n",
       "      <td>romance</td>\n",
       "    </tr>\n",
       "  </tbody>\n",
       "</table>\n",
       "</div>"
      ],
      "text/plain": [
       "           kdrama_name  imdb_rating     genre\n",
       "0  If You Wish Upon Me          9.5      life\n",
       "1  If You Wish Upon Me          9.5     drama\n",
       "2  If You Wish Upon Me          9.5   medical\n",
       "3           Reply 1988          9.2    comedy\n",
       "4           Reply 1988          9.2   romance"
      ]
     },
     "execution_count": 53,
     "metadata": {},
     "output_type": "execute_result"
    }
   ],
   "source": [
    "#Merging dataframes \n",
    "kdrama_joined= pd.merge(cleaned_kdrama_df, kdrama_genre_file_df, on='kdrama_name', how='inner')\n",
    "kdrama_joined.head()"
   ]
  },
  {
   "cell_type": "code",
   "execution_count": 54,
   "metadata": {},
   "outputs": [
    {
     "data": {
      "text/html": [
       "<div>\n",
       "<style scoped>\n",
       "    .dataframe tbody tr th:only-of-type {\n",
       "        vertical-align: middle;\n",
       "    }\n",
       "\n",
       "    .dataframe tbody tr th {\n",
       "        vertical-align: top;\n",
       "    }\n",
       "\n",
       "    .dataframe thead th {\n",
       "        text-align: right;\n",
       "    }\n",
       "</style>\n",
       "<table border=\"1\" class=\"dataframe\">\n",
       "  <thead>\n",
       "    <tr style=\"text-align: right;\">\n",
       "      <th></th>\n",
       "      <th>kdrama_name</th>\n",
       "      <th>imdb_rating</th>\n",
       "      <th>genre</th>\n",
       "    </tr>\n",
       "  </thead>\n",
       "  <tbody>\n",
       "    <tr>\n",
       "      <th>0</th>\n",
       "      <td>If You Wish Upon Me</td>\n",
       "      <td>9.5</td>\n",
       "      <td>LIFE</td>\n",
       "    </tr>\n",
       "    <tr>\n",
       "      <th>1</th>\n",
       "      <td>If You Wish Upon Me</td>\n",
       "      <td>9.5</td>\n",
       "      <td>DRAMA</td>\n",
       "    </tr>\n",
       "    <tr>\n",
       "      <th>2</th>\n",
       "      <td>If You Wish Upon Me</td>\n",
       "      <td>9.5</td>\n",
       "      <td>MEDICAL</td>\n",
       "    </tr>\n",
       "    <tr>\n",
       "      <th>3</th>\n",
       "      <td>Reply 1988</td>\n",
       "      <td>9.2</td>\n",
       "      <td>COMEDY</td>\n",
       "    </tr>\n",
       "    <tr>\n",
       "      <th>4</th>\n",
       "      <td>Reply 1988</td>\n",
       "      <td>9.2</td>\n",
       "      <td>ROMANCE</td>\n",
       "    </tr>\n",
       "  </tbody>\n",
       "</table>\n",
       "</div>"
      ],
      "text/plain": [
       "           kdrama_name  imdb_rating     genre\n",
       "0  If You Wish Upon Me          9.5      LIFE\n",
       "1  If You Wish Upon Me          9.5     DRAMA\n",
       "2  If You Wish Upon Me          9.5   MEDICAL\n",
       "3           Reply 1988          9.2    COMEDY\n",
       "4           Reply 1988          9.2   ROMANCE"
      ]
     },
     "execution_count": 54,
     "metadata": {},
     "output_type": "execute_result"
    }
   ],
   "source": [
    "#Capitalizing Genre\n",
    "kdrama_joined[\"genre\"] = kdrama_joined[\"genre\"].str.upper()\n",
    "kdrama_joined.head()"
   ]
  },
  {
   "cell_type": "code",
   "execution_count": 55,
   "metadata": {},
   "outputs": [],
   "source": [
    "#Appending Genres into One Row\n",
    "kdrama_joined_genre_df = kdrama_joined.groupby(['kdrama_name'])['genre'].apply(lambda x : np.unique(list(x))).reset_index()\n"
   ]
  },
  {
   "cell_type": "code",
   "execution_count": 56,
   "metadata": {},
   "outputs": [],
   "source": [
    "kdrama_joined_genre_df['genre'] = kdrama_joined_genre_df['genre'].apply(lambda x: x.tolist())"
   ]
  },
  {
   "cell_type": "code",
   "execution_count": 57,
   "metadata": {},
   "outputs": [
    {
     "data": {
      "text/html": [
       "<div>\n",
       "<style scoped>\n",
       "    .dataframe tbody tr th:only-of-type {\n",
       "        vertical-align: middle;\n",
       "    }\n",
       "\n",
       "    .dataframe tbody tr th {\n",
       "        vertical-align: top;\n",
       "    }\n",
       "\n",
       "    .dataframe thead th {\n",
       "        text-align: right;\n",
       "    }\n",
       "</style>\n",
       "<table border=\"1\" class=\"dataframe\">\n",
       "  <thead>\n",
       "    <tr style=\"text-align: right;\">\n",
       "      <th></th>\n",
       "      <th>kdrama_name</th>\n",
       "      <th>imdb_rating</th>\n",
       "    </tr>\n",
       "  </thead>\n",
       "  <tbody>\n",
       "    <tr>\n",
       "      <th>0</th>\n",
       "      <td>If You Wish Upon Me</td>\n",
       "      <td>9.5</td>\n",
       "    </tr>\n",
       "    <tr>\n",
       "      <th>1</th>\n",
       "      <td>If You Wish Upon Me</td>\n",
       "      <td>9.5</td>\n",
       "    </tr>\n",
       "    <tr>\n",
       "      <th>2</th>\n",
       "      <td>If You Wish Upon Me</td>\n",
       "      <td>9.5</td>\n",
       "    </tr>\n",
       "    <tr>\n",
       "      <th>3</th>\n",
       "      <td>Reply 1988</td>\n",
       "      <td>9.2</td>\n",
       "    </tr>\n",
       "    <tr>\n",
       "      <th>4</th>\n",
       "      <td>Reply 1988</td>\n",
       "      <td>9.2</td>\n",
       "    </tr>\n",
       "  </tbody>\n",
       "</table>\n",
       "</div>"
      ],
      "text/plain": [
       "           kdrama_name  imdb_rating\n",
       "0  If You Wish Upon Me          9.5\n",
       "1  If You Wish Upon Me          9.5\n",
       "2  If You Wish Upon Me          9.5\n",
       "3           Reply 1988          9.2\n",
       "4           Reply 1988          9.2"
      ]
     },
     "execution_count": 57,
     "metadata": {},
     "output_type": "execute_result"
    }
   ],
   "source": [
    "#Recreating IMDB Rating Dataframe \n",
    "kdrama_joined = kdrama_joined[[\"kdrama_name\", \"imdb_rating\"]]\n",
    "kdrama_joined.head()\n"
   ]
  },
  {
   "cell_type": "code",
   "execution_count": 58,
   "metadata": {},
   "outputs": [
    {
     "data": {
      "text/html": [
       "<div>\n",
       "<style scoped>\n",
       "    .dataframe tbody tr th:only-of-type {\n",
       "        vertical-align: middle;\n",
       "    }\n",
       "\n",
       "    .dataframe tbody tr th {\n",
       "        vertical-align: top;\n",
       "    }\n",
       "\n",
       "    .dataframe thead th {\n",
       "        text-align: right;\n",
       "    }\n",
       "</style>\n",
       "<table border=\"1\" class=\"dataframe\">\n",
       "  <thead>\n",
       "    <tr style=\"text-align: right;\">\n",
       "      <th></th>\n",
       "      <th>kdrama_name</th>\n",
       "      <th>imdb_rating</th>\n",
       "      <th>genre</th>\n",
       "    </tr>\n",
       "  </thead>\n",
       "  <tbody>\n",
       "    <tr>\n",
       "      <th>0</th>\n",
       "      <td>If You Wish Upon Me</td>\n",
       "      <td>9.5</td>\n",
       "      <td>[ DRAMA,  MEDICAL, LIFE]</td>\n",
       "    </tr>\n",
       "    <tr>\n",
       "      <th>3</th>\n",
       "      <td>Reply 1988</td>\n",
       "      <td>9.2</td>\n",
       "      <td>[ LIFE,  ROMANCE,  YOUTH, COMEDY]</td>\n",
       "    </tr>\n",
       "    <tr>\n",
       "      <th>7</th>\n",
       "      <td>Standby</td>\n",
       "      <td>9.2</td>\n",
       "      <td>[ COMEDY,  SITCOM, BUSINESS]</td>\n",
       "    </tr>\n",
       "    <tr>\n",
       "      <th>10</th>\n",
       "      <td>Extraordinary Attorney Woo</td>\n",
       "      <td>9.1</td>\n",
       "      <td>[ DRAMA,  LIFE,  ROMANCE, LAW]</td>\n",
       "    </tr>\n",
       "    <tr>\n",
       "      <th>14</th>\n",
       "      <td>My Mister</td>\n",
       "      <td>9.1</td>\n",
       "      <td>[ DRAMA,  LIFE, PSYCHOLOGICAL]</td>\n",
       "    </tr>\n",
       "  </tbody>\n",
       "</table>\n",
       "</div>"
      ],
      "text/plain": [
       "                   kdrama_name  imdb_rating                              genre\n",
       "0          If You Wish Upon Me          9.5           [ DRAMA,  MEDICAL, LIFE]\n",
       "3                   Reply 1988          9.2  [ LIFE,  ROMANCE,  YOUTH, COMEDY]\n",
       "7                      Standby          9.2       [ COMEDY,  SITCOM, BUSINESS]\n",
       "10  Extraordinary Attorney Woo          9.1     [ DRAMA,  LIFE,  ROMANCE, LAW]\n",
       "14                   My Mister          9.1     [ DRAMA,  LIFE, PSYCHOLOGICAL]"
      ]
     },
     "execution_count": 58,
     "metadata": {},
     "output_type": "execute_result"
    }
   ],
   "source": [
    "#Combining Rating and Genre Dataframes\n",
    "ratings_genre_combined = pd.merge(kdrama_joined, kdrama_joined_genre_df, on='kdrama_name', how='inner')\n",
    "final_df = ratings_genre_combined.drop_duplicates(subset=\"kdrama_name\")\n",
    "final_df.head()"
   ]
  },
  {
   "cell_type": "code",
   "execution_count": 59,
   "metadata": {},
   "outputs": [
    {
     "data": {
      "text/html": [
       "<div>\n",
       "<style scoped>\n",
       "    .dataframe tbody tr th:only-of-type {\n",
       "        vertical-align: middle;\n",
       "    }\n",
       "\n",
       "    .dataframe tbody tr th {\n",
       "        vertical-align: top;\n",
       "    }\n",
       "\n",
       "    .dataframe thead th {\n",
       "        text-align: right;\n",
       "    }\n",
       "</style>\n",
       "<table border=\"1\" class=\"dataframe\">\n",
       "  <thead>\n",
       "    <tr style=\"text-align: right;\">\n",
       "      <th></th>\n",
       "      <th>kdrama_name</th>\n",
       "      <th>imdb_rating</th>\n",
       "      <th>genre</th>\n",
       "    </tr>\n",
       "  </thead>\n",
       "  <tbody>\n",
       "    <tr>\n",
       "      <th>0</th>\n",
       "      <td>If You Wish Upon Me</td>\n",
       "      <td>9.5</td>\n",
       "      <td>[ DRAMA,  MEDICAL, LIFE]</td>\n",
       "    </tr>\n",
       "    <tr>\n",
       "      <th>3</th>\n",
       "      <td>Reply 1988</td>\n",
       "      <td>9.2</td>\n",
       "      <td>[ LIFE,  ROMANCE,  YOUTH, COMEDY]</td>\n",
       "    </tr>\n",
       "    <tr>\n",
       "      <th>7</th>\n",
       "      <td>Standby</td>\n",
       "      <td>9.2</td>\n",
       "      <td>[ COMEDY,  SITCOM, BUSINESS]</td>\n",
       "    </tr>\n",
       "    <tr>\n",
       "      <th>10</th>\n",
       "      <td>Extraordinary Attorney Woo</td>\n",
       "      <td>9.1</td>\n",
       "      <td>[ DRAMA,  LIFE,  ROMANCE, LAW]</td>\n",
       "    </tr>\n",
       "    <tr>\n",
       "      <th>14</th>\n",
       "      <td>My Mister</td>\n",
       "      <td>9.1</td>\n",
       "      <td>[ DRAMA,  LIFE, PSYCHOLOGICAL]</td>\n",
       "    </tr>\n",
       "  </tbody>\n",
       "</table>\n",
       "</div>"
      ],
      "text/plain": [
       "                   kdrama_name  imdb_rating                              genre\n",
       "0          If You Wish Upon Me          9.5           [ DRAMA,  MEDICAL, LIFE]\n",
       "3                   Reply 1988          9.2  [ LIFE,  ROMANCE,  YOUTH, COMEDY]\n",
       "7                      Standby          9.2       [ COMEDY,  SITCOM, BUSINESS]\n",
       "10  Extraordinary Attorney Woo          9.1     [ DRAMA,  LIFE,  ROMANCE, LAW]\n",
       "14                   My Mister          9.1     [ DRAMA,  LIFE, PSYCHOLOGICAL]"
      ]
     },
     "execution_count": 59,
     "metadata": {},
     "output_type": "execute_result"
    }
   ],
   "source": [
    "#Removing all IMDB Rating < 8 \n",
    "final_df = final_df[final_df['imdb_rating'] >= 8] \n",
    "final_df.head()"
   ]
  },
  {
   "cell_type": "code",
   "execution_count": 60,
   "metadata": {},
   "outputs": [
    {
     "data": {
      "text/html": [
       "<div>\n",
       "<style scoped>\n",
       "    .dataframe tbody tr th:only-of-type {\n",
       "        vertical-align: middle;\n",
       "    }\n",
       "\n",
       "    .dataframe tbody tr th {\n",
       "        vertical-align: top;\n",
       "    }\n",
       "\n",
       "    .dataframe thead th {\n",
       "        text-align: right;\n",
       "    }\n",
       "</style>\n",
       "<table border=\"1\" class=\"dataframe\">\n",
       "  <thead>\n",
       "    <tr style=\"text-align: right;\">\n",
       "      <th></th>\n",
       "      <th>kdrama_name</th>\n",
       "      <th>imdb_rating</th>\n",
       "      <th>genre</th>\n",
       "    </tr>\n",
       "  </thead>\n",
       "  <tbody>\n",
       "    <tr>\n",
       "      <th>0</th>\n",
       "      <td>If You Wish Upon Me</td>\n",
       "      <td>9.5</td>\n",
       "      <td>[ DRAMA,  MEDICAL, LIFE]</td>\n",
       "    </tr>\n",
       "    <tr>\n",
       "      <th>3</th>\n",
       "      <td>Reply 1988</td>\n",
       "      <td>9.2</td>\n",
       "      <td>[ LIFE,  ROMANCE,  YOUTH, COMEDY]</td>\n",
       "    </tr>\n",
       "    <tr>\n",
       "      <th>7</th>\n",
       "      <td>Standby</td>\n",
       "      <td>9.2</td>\n",
       "      <td>[ COMEDY,  SITCOM, BUSINESS]</td>\n",
       "    </tr>\n",
       "    <tr>\n",
       "      <th>10</th>\n",
       "      <td>Extraordinary Attorney Woo</td>\n",
       "      <td>9.1</td>\n",
       "      <td>[ DRAMA,  LIFE,  ROMANCE, LAW]</td>\n",
       "    </tr>\n",
       "    <tr>\n",
       "      <th>14</th>\n",
       "      <td>My Mister</td>\n",
       "      <td>9.1</td>\n",
       "      <td>[ DRAMA,  LIFE, PSYCHOLOGICAL]</td>\n",
       "    </tr>\n",
       "  </tbody>\n",
       "</table>\n",
       "</div>"
      ],
      "text/plain": [
       "                   kdrama_name  imdb_rating                              genre\n",
       "0          If You Wish Upon Me          9.5           [ DRAMA,  MEDICAL, LIFE]\n",
       "3                   Reply 1988          9.2  [ LIFE,  ROMANCE,  YOUTH, COMEDY]\n",
       "7                      Standby          9.2       [ COMEDY,  SITCOM, BUSINESS]\n",
       "10  Extraordinary Attorney Woo          9.1     [ DRAMA,  LIFE,  ROMANCE, LAW]\n",
       "14                   My Mister          9.1     [ DRAMA,  LIFE, PSYCHOLOGICAL]"
      ]
     },
     "execution_count": 60,
     "metadata": {},
     "output_type": "execute_result"
    }
   ],
   "source": [
    "#Titlecasing Kdrama Name\n",
    "final_df[\"kdrama_name\"] = final_df[\"kdrama_name\"].str.title()\n",
    "final_df.head()"
   ]
  },
  {
   "cell_type": "code",
   "execution_count": 61,
   "metadata": {},
   "outputs": [
    {
     "data": {
      "text/html": [
       "<div>\n",
       "<style scoped>\n",
       "    .dataframe tbody tr th:only-of-type {\n",
       "        vertical-align: middle;\n",
       "    }\n",
       "\n",
       "    .dataframe tbody tr th {\n",
       "        vertical-align: top;\n",
       "    }\n",
       "\n",
       "    .dataframe thead th {\n",
       "        text-align: right;\n",
       "    }\n",
       "</style>\n",
       "<table border=\"1\" class=\"dataframe\">\n",
       "  <thead>\n",
       "    <tr style=\"text-align: right;\">\n",
       "      <th></th>\n",
       "      <th>kdrama_name</th>\n",
       "      <th>imdb_rating</th>\n",
       "      <th>genre</th>\n",
       "    </tr>\n",
       "  </thead>\n",
       "  <tbody>\n",
       "    <tr>\n",
       "      <th>0</th>\n",
       "      <td>If You Wish Upon Me</td>\n",
       "      <td>9.5</td>\n",
       "      <td>[ DRAMA,  MEDICAL, LIFE]</td>\n",
       "    </tr>\n",
       "    <tr>\n",
       "      <th>1</th>\n",
       "      <td>Reply 1988</td>\n",
       "      <td>9.2</td>\n",
       "      <td>[ LIFE,  ROMANCE,  YOUTH, COMEDY]</td>\n",
       "    </tr>\n",
       "    <tr>\n",
       "      <th>2</th>\n",
       "      <td>Standby</td>\n",
       "      <td>9.2</td>\n",
       "      <td>[ COMEDY,  SITCOM, BUSINESS]</td>\n",
       "    </tr>\n",
       "    <tr>\n",
       "      <th>3</th>\n",
       "      <td>Extraordinary Attorney Woo</td>\n",
       "      <td>9.1</td>\n",
       "      <td>[ DRAMA,  LIFE,  ROMANCE, LAW]</td>\n",
       "    </tr>\n",
       "    <tr>\n",
       "      <th>4</th>\n",
       "      <td>My Mister</td>\n",
       "      <td>9.1</td>\n",
       "      <td>[ DRAMA,  LIFE, PSYCHOLOGICAL]</td>\n",
       "    </tr>\n",
       "  </tbody>\n",
       "</table>\n",
       "</div>"
      ],
      "text/plain": [
       "                  kdrama_name  imdb_rating                              genre\n",
       "0         If You Wish Upon Me          9.5           [ DRAMA,  MEDICAL, LIFE]\n",
       "1                  Reply 1988          9.2  [ LIFE,  ROMANCE,  YOUTH, COMEDY]\n",
       "2                     Standby          9.2       [ COMEDY,  SITCOM, BUSINESS]\n",
       "3  Extraordinary Attorney Woo          9.1     [ DRAMA,  LIFE,  ROMANCE, LAW]\n",
       "4                   My Mister          9.1     [ DRAMA,  LIFE, PSYCHOLOGICAL]"
      ]
     },
     "execution_count": 61,
     "metadata": {},
     "output_type": "execute_result"
    }
   ],
   "source": [
    "#Resetting Dataframe Index\n",
    "final_df.reset_index(drop=True, inplace=True)\n",
    "final_df.head()"
   ]
  },
  {
   "cell_type": "code",
   "execution_count": 62,
   "metadata": {},
   "outputs": [],
   "source": [
    "connection_string = f'{protocol}://{username}:{password}@{host}:{port}/{database_name}'\n",
    "engine = create_engine(connection_string)"
   ]
  },
  {
   "cell_type": "code",
   "execution_count": 63,
   "metadata": {},
   "outputs": [
    {
     "name": "stderr",
     "output_type": "stream",
     "text": [
      "/var/folders/06/dlzbbxfn6tgfd6s50hkzfk3r0000gn/T/ipykernel_79735/4162273999.py:1: SADeprecationWarning: The Engine.table_names() method is deprecated and will be removed in a future release.  Please refer to Inspector.get_table_names(). (deprecated since: 1.4)\n",
      "  engine.table_names()\n"
     ]
    },
    {
     "data": {
      "text/plain": [
       "['kdrama']"
      ]
     },
     "execution_count": 63,
     "metadata": {},
     "output_type": "execute_result"
    }
   ],
   "source": [
    "engine.table_names()"
   ]
  },
  {
   "cell_type": "code",
   "execution_count": 64,
   "metadata": {},
   "outputs": [
    {
     "data": {
      "text/plain": [
       "157"
      ]
     },
     "execution_count": 64,
     "metadata": {},
     "output_type": "execute_result"
    }
   ],
   "source": [
    "final_df.to_sql(name='kdrama', con=engine, if_exists='append', index=False)"
   ]
  }
 ],
 "metadata": {
  "kernelspec": {
   "display_name": "Python 3.9.12 ('base')",
   "language": "python",
   "name": "python3"
  },
  "language_info": {
   "codemirror_mode": {
    "name": "ipython",
    "version": 3
   },
   "file_extension": ".py",
   "mimetype": "text/x-python",
   "name": "python",
   "nbconvert_exporter": "python",
   "pygments_lexer": "ipython3",
   "version": "3.9.12"
  },
  "orig_nbformat": 4,
  "vscode": {
   "interpreter": {
    "hash": "aea3586fa6990ac190289595ab990eef45803da6fa4c3d19da3f2714bb971529"
   }
  }
 },
 "nbformat": 4,
 "nbformat_minor": 2
}

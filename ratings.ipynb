{
 "cells": [
  {
   "cell_type": "code",
   "execution_count": null,
   "metadata": {},
   "outputs": [],
   "source": [
    "#Dependencies\n",
    "import pandas as pd\n",
    "import numpy as np\n",
    "\n",
    "from sqlalchemy import create_engine\n",
    "import psycopg2\n",
    "\n",
    "from config import protocol, username, password, host, port, database_name\n"
   ]
  },
  {
   "cell_type": "code",
   "execution_count": null,
   "metadata": {},
   "outputs": [],
   "source": [
    "#Extracting Files (Kdrama)\n",
    "kdrama_file = \"./Data/imdb.csv\"\n",
    "kdrama_df = pd.read_csv(kdrama_file)\n",
    "kdrama_df.head()"
   ]
  },
  {
   "cell_type": "code",
   "execution_count": null,
   "metadata": {},
   "outputs": [],
   "source": [
    "#Cleaning Files (kdrama)\n",
    "cleaned_kdrama_df = kdrama_df[[\"kdrama_name\", \"imdb_rating\"]].copy()\n",
    "cleaned_kdrama_df.sort_values(by=['imdb_rating'], inplace=True, ascending=False)\n",
    "cleaned_kdrama_df.head()"
   ]
  },
  {
   "cell_type": "code",
   "execution_count": null,
   "metadata": {},
   "outputs": [],
   "source": [
    "##Extracting Files (Genres)\n",
    "kdrama_genre_file = \"./Data/genres.csv\"\n",
    "kdrama_genre_file_df = pd.read_csv(kdrama_genre_file)\n",
    "kdrama_genre_file_df.head()"
   ]
  },
  {
   "cell_type": "code",
   "execution_count": null,
   "metadata": {},
   "outputs": [],
   "source": [
    "#Merging dataframes \n",
    "kdrama_joined= pd.merge(cleaned_kdrama_df, kdrama_genre_file_df, on='kdrama_name', how='inner')\n",
    "kdrama_joined.head()"
   ]
  },
  {
   "cell_type": "code",
   "execution_count": null,
   "metadata": {},
   "outputs": [],
   "source": [
    "#Capitalizing Genre\n",
    "kdrama_joined[\"genre\"] = kdrama_joined[\"genre\"].str.upper()\n",
    "kdrama_joined.head()"
   ]
  },
  {
   "cell_type": "code",
   "execution_count": null,
   "metadata": {},
   "outputs": [],
   "source": [
    "#Appending Genres into One Row\n",
    "kdrama_joined_genre_df = kdrama_joined.groupby(['kdrama_name'])['genre'].apply(lambda x : np.unique(list(x))).reset_index()\n"
   ]
  },
  {
   "cell_type": "code",
   "execution_count": null,
   "metadata": {},
   "outputs": [],
   "source": [
    "kdrama_joined_genre_df['genre'] = kdrama_joined_genre_df['genre'].apply(lambda x: x.tolist())"
   ]
  },
  {
   "cell_type": "code",
   "execution_count": null,
   "metadata": {},
   "outputs": [],
   "source": [
    "#Recreating IMDB Rating Dataframe \n",
    "kdrama_joined = kdrama_joined[[\"kdrama_name\", \"imdb_rating\"]]\n",
    "kdrama_joined.head()\n"
   ]
  },
  {
   "cell_type": "code",
   "execution_count": null,
   "metadata": {},
   "outputs": [],
   "source": [
    "#Combining Rating and Genre Dataframes\n",
    "ratings_genre_combined = pd.merge(kdrama_joined, kdrama_joined_genre_df, on='kdrama_name', how='inner')\n",
    "final_df = ratings_genre_combined.drop_duplicates(subset=\"kdrama_name\")\n",
    "final_df.head()"
   ]
  },
  {
   "cell_type": "code",
   "execution_count": null,
   "metadata": {},
   "outputs": [],
   "source": [
    "#Removing all IMDB Rating < 8 \n",
    "final_df = final_df[final_df['imdb_rating'] >= 8] \n",
    "final_df.head()"
   ]
  },
  {
   "cell_type": "code",
   "execution_count": null,
   "metadata": {},
   "outputs": [],
   "source": [
    "#Titlecasing Kdrama Name\n",
    "final_df[\"kdrama_name\"] = final_df[\"kdrama_name\"].str.title()\n",
    "final_df.head()"
   ]
  },
  {
   "cell_type": "code",
   "execution_count": null,
   "metadata": {},
   "outputs": [],
   "source": [
    "#Resetting Dataframe Index\n",
    "final_df.reset_index(drop=True, inplace=True)\n",
    "final_df.head()"
   ]
  },
  {
   "cell_type": "code",
   "execution_count": null,
   "metadata": {},
   "outputs": [],
   "source": [
    "connection_string = f'{protocol}://{username}:{password}@{host}:{port}/{database_name}'\n",
    "engine = create_engine(connection_string)"
   ]
  },
  {
   "cell_type": "code",
   "execution_count": null,
   "metadata": {},
   "outputs": [],
   "source": [
    "engine.table_names()"
   ]
  },
  {
   "cell_type": "code",
   "execution_count": null,
   "metadata": {},
   "outputs": [],
   "source": [
    "final_df.to_sql(name='kdrama', con=engine, if_exists='append', index=False)"
   ]
  }
 ],
 "metadata": {
  "kernelspec": {
   "display_name": "Python 3.9.12 ('base')",
   "language": "python",
   "name": "python3"
  },
  "language_info": {
   "codemirror_mode": {
    "name": "ipython",
    "version": 3
   },
   "file_extension": ".py",
   "mimetype": "text/x-python",
   "name": "python",
   "nbconvert_exporter": "python",
   "pygments_lexer": "ipython3",
   "version": "3.9.12"
  },
  "orig_nbformat": 4,
  "vscode": {
   "interpreter": {
    "hash": "aea3586fa6990ac190289595ab990eef45803da6fa4c3d19da3f2714bb971529"
   }
  }
 },
 "nbformat": 4,
 "nbformat_minor": 2
}

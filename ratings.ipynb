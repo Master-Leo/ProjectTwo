{
 "cells": [
  {
   "cell_type": "code",
   "execution_count": null,
   "metadata": {},
   "outputs": [],
   "source": [
    "#Dependencies\n",
    "import pandas as pd\n",
    "import numpy as np\n"
   ]
  },
  {
   "cell_type": "code",
   "execution_count": null,
   "metadata": {},
   "outputs": [],
   "source": [
    "#Extracting Files (Kdrama)\n",
    "kdrama_file = \"./Data/imdb.csv\"\n",
    "kdrama_df = pd.read_csv(kdrama_file)\n",
    "kdrama_df.head()"
   ]
  },
  {
   "cell_type": "code",
   "execution_count": null,
   "metadata": {},
   "outputs": [],
   "source": [
    "#Cleaning Files (kdrama)\n",
    "cleaned_kdrama_df = kdrama_df[[\"kdrama_name\", \"imdb_rating\"]].copy()\n",
    "cleaned_kdrama_df.sort_values(by=['imdb_rating'], inplace=True, ascending=False)\n",
    "cleaned_kdrama_df.head()"
   ]
  },
  {
   "cell_type": "code",
   "execution_count": null,
   "metadata": {},
   "outputs": [],
   "source": [
    "#Genres\n",
    "kdrama_genre_file = \"./Data/genres.csv\"\n",
    "kdrama_genre_file_df = pd.read_csv(kdrama_genre_file)\n",
    "kdrama_genre_file_df.head()"
   ]
  },
  {
   "cell_type": "code",
   "execution_count": null,
   "metadata": {},
   "outputs": [],
   "source": [
    "kdrama_joined= pd.merge(cleaned_kdrama_df, kdrama_genre_file_df, on='kdrama_name', how='inner')\n",
    "kdrama_joined.head()"
   ]
  },
  {
   "cell_type": "code",
   "execution_count": null,
   "metadata": {},
   "outputs": [],
   "source": [
    "kdrama_joined[\"genre\"] = kdrama_joined[\"genre\"].str.upper()\n",
    "kdrama_joined.head()"
   ]
  },
  {
   "cell_type": "code",
   "execution_count": null,
   "metadata": {},
   "outputs": [],
   "source": [
    "kdrama_joined_genre_df = kdrama_joined.groupby(['kdrama_name'])['genre'].apply(lambda x : np.unique(list(x))).reset_index()\n"
   ]
  },
  {
   "cell_type": "code",
   "execution_count": null,
   "metadata": {},
   "outputs": [],
   "source": [
    "kdrama_joined_genre_df.head()"
   ]
  },
  {
   "cell_type": "code",
   "execution_count": null,
   "metadata": {},
   "outputs": [],
   "source": [
    "kdrama_joined = kdrama_joined[[\"kdrama_name\", \"imdb_rating\"]]\n",
    "kdrama_joined.head()\n"
   ]
  },
  {
   "cell_type": "code",
   "execution_count": null,
   "metadata": {},
   "outputs": [],
   "source": [
    "ratings_genre_combined = pd.merge(kdrama_joined, kdrama_joined_genre_df, on='kdrama_name', how='inner')\n",
    "final_df = ratings_genre_combined.drop_duplicates(subset=\"kdrama_name\")\n",
    "final_df.head()"
   ]
  },
  {
   "cell_type": "code",
   "execution_count": null,
   "metadata": {},
   "outputs": [],
   "source": [
    "final_df = final_df[final_df['imdb_rating'] > 8] \n",
    "final_df"
   ]
  },
  {
   "cell_type": "code",
   "execution_count": null,
   "metadata": {},
   "outputs": [],
   "source": [
    "final_df = final_df.drop([0, 1])\n",
    "final_df = final_df.reset_index()\n"
   ]
  }
 ],
 "metadata": {
  "kernelspec": {
   "display_name": "Python 3.9.12 ('base')",
   "language": "python",
   "name": "python3"
  },
  "language_info": {
   "codemirror_mode": {
    "name": "ipython",
    "version": 3
   },
   "file_extension": ".py",
   "mimetype": "text/x-python",
   "name": "python",
   "nbconvert_exporter": "python",
   "pygments_lexer": "ipython3",
   "version": "3.9.12"
  },
  "orig_nbformat": 4,
  "vscode": {
   "interpreter": {
    "hash": "9b65e3f165b9ab6886d5ca8424d575f5b16bbb36049fd86f168802c37613562d"
   }
  }
 },
 "nbformat": 4,
 "nbformat_minor": 2
}
